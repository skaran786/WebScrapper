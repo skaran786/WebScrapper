{
  "nbformat": 4,
  "nbformat_minor": 0,
  "metadata": {
    "colab": {
      "name": "WebScrapperStartUpInIndia.ipynb",
      "provenance": [],
      "authorship_tag": "ABX9TyOub0rcMbkbgf7k9pWBafF+",
      "include_colab_link": true
    },
    "kernelspec": {
      "name": "python3",
      "display_name": "Python 3"
    },
    "language_info": {
      "name": "python"
    }
  },
  "cells": [
    {
      "cell_type": "markdown",
      "metadata": {
        "id": "view-in-github",
        "colab_type": "text"
      },
      "source": [
        "<a href=\"https://colab.research.google.com/github/skaran786/WebScrapper/blob/main/WebScrapperStartUpInIndia.ipynb\" target=\"_parent\"><img src=\"https://colab.research.google.com/assets/colab-badge.svg\" alt=\"Open In Colab\"/></a>"
      ]
    },
    {
      "cell_type": "code",
      "execution_count": null,
      "metadata": {
        "id": "BzZ927dIaH3v"
      },
      "outputs": [],
      "source": [
        "# Importing libraries\n",
        "import requests\n",
        "from bs4 import BeautifulSoup\n",
        "import pandas as pd\n",
        "import requests\n",
        "import lxml.html as lh\n",
        "import pandas as pd"
      ]
    },
    {
      "cell_type": "code",
      "source": [
        "# Create an URL object\n",
        "url = 'https://startuptalky.com/indian-startup-funding-investors-data-2021/#Indian_Startups_Funding_Data_-_December_2021'\n",
        "# Create object page\n",
        "page = requests.get(url)"
      ],
      "metadata": {
        "id": "erlawG-EbZZh"
      },
      "execution_count": null,
      "outputs": []
    },
    {
      "cell_type": "code",
      "source": [
        "# parser-lxml = Change html to Python friendly format\n",
        "# Obtain page's information\n",
        "soup = BeautifulSoup(page.text, 'lxml')\n",
        "soup"
      ],
      "metadata": {
        "id": "ZKCBpPmXbhNy"
      },
      "execution_count": null,
      "outputs": []
    },
    {
      "cell_type": "code",
      "source": [
        "#Store the contents of the website under doc\n",
        "doc = lh.fromstring(page.content)\n",
        "#Parse data that are stored between <tr>..</tr> of HTML\n",
        "tr_elements = doc.xpath('//tr')"
      ],
      "metadata": {
        "id": "Gk4F4PcwbnUF"
      },
      "execution_count": null,
      "outputs": []
    },
    {
      "cell_type": "code",
      "source": [
        "[len(T) for T in tr_elements[:12]]"
      ],
      "metadata": {
        "id": "MxaAnfeudPqq"
      },
      "execution_count": null,
      "outputs": []
    },
    {
      "cell_type": "code",
      "source": [
        "tr_elements = doc.xpath('//tr')\n",
        "#Create empty list\n",
        "col=[]\n",
        "i=0\n",
        "#For each row, store each first element (header) and an empty list\n",
        "for t in tr_elements[0]:\n",
        "    i+=1\n",
        "    name=t.text_content()\n",
        "    print ('%d:\"%s\"'%(i,name))\n",
        "    col.append((name,[]))"
      ],
      "metadata": {
        "id": "oQBR-G-7dQLF"
      },
      "execution_count": null,
      "outputs": []
    },
    {
      "cell_type": "code",
      "source": [
        "#Since out first row is the header, data is stored on the second row onwards\n",
        "for j in range(1,len(tr_elements)):\n",
        "    #T is our j'th row\n",
        "    T=tr_elements[j]\n",
        "    \n",
        "    #If row is not of size 10, the //tr data is not from our table \n",
        "    if len(T)!=9:\n",
        "        break\n",
        "    \n",
        "    #i is the index of our column\n",
        "    i=0\n",
        "    \n",
        "    #Iterate through each element of the row\n",
        "    for t in T.iterchildren():\n",
        "        data=t.text_content() \n",
        "        #Check if row is empty\n",
        "        if i>0:\n",
        "        #Convert any numerical value to integers\n",
        "            try:\n",
        "                data=int(data)\n",
        "            except:\n",
        "                pass\n",
        "        #Append the data to the empty list of the i'th column\n",
        "        col[i][1].append(data)\n",
        "        #Increment i for the next column\n",
        "        i+=1"
      ],
      "metadata": {
        "id": "94YRuD3kdVqM"
      },
      "execution_count": null,
      "outputs": []
    },
    {
      "cell_type": "code",
      "source": [
        "[len(C) for (title,C) in col]\n"
      ],
      "metadata": {
        "id": "sPkIXvVwdiBM"
      },
      "execution_count": null,
      "outputs": []
    },
    {
      "cell_type": "code",
      "source": [
        "Dict={title:column for (title,column) in col}\n",
        "df=pd.DataFrame(Dict)\n",
        "df.head()"
      ],
      "metadata": {
        "id": "XvmMy_fjdnPl"
      },
      "execution_count": null,
      "outputs": []
    },
    {
      "cell_type": "code",
      "source": [
        "df.to_excel('startup.xls', index=False)"
      ],
      "metadata": {
        "id": "ca0RS1I-d0ND"
      },
      "execution_count": null,
      "outputs": []
    }
  ]
}